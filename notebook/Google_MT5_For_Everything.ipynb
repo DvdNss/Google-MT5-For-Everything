{
  "nbformat": 4,
  "nbformat_minor": 0,
  "metadata": {
    "colab": {
      "name": "Google-MT5-For-Everything",
      "provenance": [],
      "collapsed_sections": [
        "DCDNYwJpfCSP"
      ]
    },
    "kernelspec": {
      "name": "python3",
      "display_name": "Python 3"
    },
    "language_info": {
      "name": "python"
    }
  },
  "cells": [
    {
      "cell_type": "code",
      "execution_count": null,
      "metadata": {
        "colab": {
          "base_uri": "https://localhost:8080/"
        },
        "id": "fQihxmoFe-tX",
        "outputId": "a861e4d3-c9d1-43fa-8ceb-2b9bfe07418f"
      },
      "outputs": [
        {
          "output_type": "stream",
          "name": "stdout",
          "text": [
            "/bin/bash: nvidia-smi: command not found\n"
          ]
        }
      ],
      "source": [
        "!nvidia-smi"
      ]
    },
    {
      "cell_type": "markdown",
      "source": [
        "# Install Repo\n",
        "(do not forget to mount your drive to have the models stored in it automatically)"
      ],
      "metadata": {
        "id": "DCDNYwJpfCSP"
      }
    },
    {
      "cell_type": "code",
      "source": [
        "cd /content/drive/MyDrive/"
      ],
      "metadata": {
        "colab": {
          "base_uri": "https://localhost:8080/"
        },
        "id": "TbhfuTOgfFbi",
        "outputId": "b3e6ea71-62f1-4910-8d67-17b1da06de13"
      },
      "execution_count": null,
      "outputs": [
        {
          "output_type": "stream",
          "name": "stdout",
          "text": [
            "/content/drive/MyDrive\n"
          ]
        }
      ]
    },
    {
      "cell_type": "code",
      "source": [
        "!git clone https://github.com/DvdNss/Google-MT5-For-Everything.git"
      ],
      "metadata": {
        "colab": {
          "base_uri": "https://localhost:8080/"
        },
        "id": "K7-RXgnHfHc3",
        "outputId": "a3398f80-b211-45fb-8676-e8fa29bf9cd6"
      },
      "execution_count": null,
      "outputs": [
        {
          "output_type": "stream",
          "name": "stdout",
          "text": [
            "fatal: destination path 'Google-MT5-For-Everything' already exists and is not an empty directory.\n"
          ]
        }
      ]
    },
    {
      "cell_type": "code",
      "source": [
        "cd /content/drive/MyDrive/Google-MT5-For-Everything/"
      ],
      "metadata": {
        "colab": {
          "base_uri": "https://localhost:8080/"
        },
        "id": "FGeo6Y3FfHov",
        "outputId": "456b5976-2205-4fa6-acd2-f89c1b06a165"
      },
      "execution_count": null,
      "outputs": [
        {
          "output_type": "stream",
          "name": "stdout",
          "text": [
            "/content/drive/MyDrive/Google-MT5-For-Everything\n"
          ]
        }
      ]
    },
    {
      "cell_type": "code",
      "source": [
        "!git pull"
      ],
      "metadata": {
        "colab": {
          "base_uri": "https://localhost:8080/"
        },
        "id": "WVyqse7efHxM",
        "outputId": "db78cc72-0a80-472a-81cd-5a498ab8faef"
      },
      "execution_count": null,
      "outputs": [
        {
          "output_type": "stream",
          "name": "stdout",
          "text": [
            "remote: Enumerating objects: 5, done.\u001b[K\n",
            "remote: Counting objects:  20% (1/5)\u001b[K\rremote: Counting objects:  40% (2/5)\u001b[K\rremote: Counting objects:  60% (3/5)\u001b[K\rremote: Counting objects:  80% (4/5)\u001b[K\rremote: Counting objects: 100% (5/5)\u001b[K\rremote: Counting objects: 100% (5/5), done.\u001b[K\n",
            "remote: Compressing objects: 100% (1/1)\u001b[K\rremote: Compressing objects: 100% (1/1), done.\u001b[K\n",
            "remote: Total 3 (delta 2), reused 3 (delta 2), pack-reused 0\u001b[K\n",
            "Unpacking objects:  33% (1/3)   \rUnpacking objects:  66% (2/3)   \rUnpacking objects: 100% (3/3)   \rUnpacking objects: 100% (3/3), done.\n",
            "From https://github.com/DvdNss/Google-MT5-For-Everything\n",
            "   76f5fd1..e2f4b4f  main       -> origin/main\n",
            "Updating 76f5fd1..e2f4b4f\n",
            "Fast-forward\n",
            " README.md | 7 \u001b[32m+++++\u001b[m\u001b[31m--\u001b[m\n",
            " 1 file changed, 5 insertions(+), 2 deletions(-)\n"
          ]
        }
      ]
    },
    {
      "cell_type": "code",
      "source": [
        "pip install -r requirements.txt"
      ],
      "metadata": {
        "colab": {
          "base_uri": "https://localhost:8080/"
        },
        "id": "dlEBG58ufO5B",
        "outputId": "3e245e9a-bb62-4a5f-e177-0cfdd3e94dc1"
      },
      "execution_count": null,
      "outputs": [
        {
          "output_type": "stream",
          "name": "stdout",
          "text": [
            "Looking in links: https://download.pytorch.org/whl/cu113/torch_stable.html\n",
            "Requirement already satisfied: torch>=1.10.0+cu113 in /usr/local/lib/python3.7/dist-packages (from -r requirements.txt (line 2)) (1.10.2+cu113)\n",
            "Requirement already satisfied: pytorch-lightning>=1.5.7 in /usr/local/lib/python3.7/dist-packages (from -r requirements.txt (line 3)) (1.5.9)\n",
            "Requirement already satisfied: datasets>=1.17.0 in /usr/local/lib/python3.7/dist-packages (from -r requirements.txt (line 4)) (1.18.3)\n",
            "Requirement already satisfied: tqdm>=4.62.3 in /usr/local/lib/python3.7/dist-packages (from -r requirements.txt (line 5)) (4.62.3)\n",
            "Requirement already satisfied: transformers>=4.15.0 in /usr/local/lib/python3.7/dist-packages (from -r requirements.txt (line 6)) (4.16.2)\n",
            "Requirement already satisfied: sentencepiece>=0.1.96 in /usr/local/lib/python3.7/dist-packages (from -r requirements.txt (line 7)) (0.1.96)\n",
            "Requirement already satisfied: protobuf>=3.19.1 in /usr/local/lib/python3.7/dist-packages (from -r requirements.txt (line 8)) (3.19.4)\n",
            "Requirement already satisfied: typing-extensions in /usr/local/lib/python3.7/dist-packages (from torch>=1.10.0+cu113->-r requirements.txt (line 2)) (3.10.0.2)\n",
            "Requirement already satisfied: numpy>=1.17.2 in /usr/local/lib/python3.7/dist-packages (from pytorch-lightning>=1.5.7->-r requirements.txt (line 3)) (1.19.5)\n",
            "Requirement already satisfied: PyYAML>=5.1 in /usr/local/lib/python3.7/dist-packages (from pytorch-lightning>=1.5.7->-r requirements.txt (line 3)) (6.0)\n",
            "Requirement already satisfied: pyDeprecate==0.3.1 in /usr/local/lib/python3.7/dist-packages (from pytorch-lightning>=1.5.7->-r requirements.txt (line 3)) (0.3.1)\n",
            "Requirement already satisfied: packaging>=17.0 in /usr/local/lib/python3.7/dist-packages (from pytorch-lightning>=1.5.7->-r requirements.txt (line 3)) (21.3)\n",
            "Requirement already satisfied: fsspec[http]!=2021.06.0,>=2021.05.0 in /usr/local/lib/python3.7/dist-packages (from pytorch-lightning>=1.5.7->-r requirements.txt (line 3)) (2022.1.0)\n",
            "Requirement already satisfied: tensorboard>=2.2.0 in /usr/local/lib/python3.7/dist-packages (from pytorch-lightning>=1.5.7->-r requirements.txt (line 3)) (2.7.0)\n",
            "Requirement already satisfied: torchmetrics>=0.4.1 in /usr/local/lib/python3.7/dist-packages (from pytorch-lightning>=1.5.7->-r requirements.txt (line 3)) (0.7.1)\n",
            "Requirement already satisfied: future>=0.17.1 in /usr/local/lib/python3.7/dist-packages (from pytorch-lightning>=1.5.7->-r requirements.txt (line 3)) (0.18.2)\n",
            "Requirement already satisfied: setuptools==59.5.0 in /usr/local/lib/python3.7/dist-packages (from pytorch-lightning>=1.5.7->-r requirements.txt (line 3)) (59.5.0)\n",
            "Requirement already satisfied: pandas in /usr/local/lib/python3.7/dist-packages (from datasets>=1.17.0->-r requirements.txt (line 4)) (1.3.5)\n",
            "Requirement already satisfied: aiohttp in /usr/local/lib/python3.7/dist-packages (from datasets>=1.17.0->-r requirements.txt (line 4)) (3.8.1)\n",
            "Requirement already satisfied: multiprocess in /usr/local/lib/python3.7/dist-packages (from datasets>=1.17.0->-r requirements.txt (line 4)) (0.70.12.2)\n",
            "Requirement already satisfied: dill in /usr/local/lib/python3.7/dist-packages (from datasets>=1.17.0->-r requirements.txt (line 4)) (0.3.4)\n",
            "Requirement already satisfied: xxhash in /usr/local/lib/python3.7/dist-packages (from datasets>=1.17.0->-r requirements.txt (line 4)) (2.0.2)\n",
            "Requirement already satisfied: huggingface-hub<1.0.0,>=0.1.0 in /usr/local/lib/python3.7/dist-packages (from datasets>=1.17.0->-r requirements.txt (line 4)) (0.4.0)\n",
            "Requirement already satisfied: pyarrow!=4.0.0,>=3.0.0 in /usr/local/lib/python3.7/dist-packages (from datasets>=1.17.0->-r requirements.txt (line 4)) (6.0.1)\n",
            "Requirement already satisfied: requests>=2.19.0 in /usr/local/lib/python3.7/dist-packages (from datasets>=1.17.0->-r requirements.txt (line 4)) (2.23.0)\n",
            "Requirement already satisfied: importlib-metadata in /usr/local/lib/python3.7/dist-packages (from datasets>=1.17.0->-r requirements.txt (line 4)) (4.10.1)\n",
            "Requirement already satisfied: tokenizers!=0.11.3,>=0.10.1 in /usr/local/lib/python3.7/dist-packages (from transformers>=4.15.0->-r requirements.txt (line 6)) (0.11.4)\n",
            "Requirement already satisfied: sacremoses in /usr/local/lib/python3.7/dist-packages (from transformers>=4.15.0->-r requirements.txt (line 6)) (0.0.47)\n",
            "Requirement already satisfied: filelock in /usr/local/lib/python3.7/dist-packages (from transformers>=4.15.0->-r requirements.txt (line 6)) (3.4.2)\n",
            "Requirement already satisfied: regex!=2019.12.17 in /usr/local/lib/python3.7/dist-packages (from transformers>=4.15.0->-r requirements.txt (line 6)) (2019.12.20)\n",
            "Requirement already satisfied: pyparsing!=3.0.5,>=2.0.2 in /usr/local/lib/python3.7/dist-packages (from packaging>=17.0->pytorch-lightning>=1.5.7->-r requirements.txt (line 3)) (3.0.7)\n",
            "Requirement already satisfied: chardet<4,>=3.0.2 in /usr/local/lib/python3.7/dist-packages (from requests>=2.19.0->datasets>=1.17.0->-r requirements.txt (line 4)) (3.0.4)\n",
            "Requirement already satisfied: certifi>=2017.4.17 in /usr/local/lib/python3.7/dist-packages (from requests>=2.19.0->datasets>=1.17.0->-r requirements.txt (line 4)) (2021.10.8)\n",
            "Requirement already satisfied: urllib3!=1.25.0,!=1.25.1,<1.26,>=1.21.1 in /usr/local/lib/python3.7/dist-packages (from requests>=2.19.0->datasets>=1.17.0->-r requirements.txt (line 4)) (1.24.3)\n",
            "Requirement already satisfied: idna<3,>=2.5 in /usr/local/lib/python3.7/dist-packages (from requests>=2.19.0->datasets>=1.17.0->-r requirements.txt (line 4)) (2.10)\n",
            "Requirement already satisfied: google-auth-oauthlib<0.5,>=0.4.1 in /usr/local/lib/python3.7/dist-packages (from tensorboard>=2.2.0->pytorch-lightning>=1.5.7->-r requirements.txt (line 3)) (0.4.6)\n",
            "Requirement already satisfied: tensorboard-data-server<0.7.0,>=0.6.0 in /usr/local/lib/python3.7/dist-packages (from tensorboard>=2.2.0->pytorch-lightning>=1.5.7->-r requirements.txt (line 3)) (0.6.1)\n",
            "Requirement already satisfied: tensorboard-plugin-wit>=1.6.0 in /usr/local/lib/python3.7/dist-packages (from tensorboard>=2.2.0->pytorch-lightning>=1.5.7->-r requirements.txt (line 3)) (1.8.1)\n",
            "Requirement already satisfied: wheel>=0.26 in /usr/local/lib/python3.7/dist-packages (from tensorboard>=2.2.0->pytorch-lightning>=1.5.7->-r requirements.txt (line 3)) (0.37.1)\n",
            "Requirement already satisfied: markdown>=2.6.8 in /usr/local/lib/python3.7/dist-packages (from tensorboard>=2.2.0->pytorch-lightning>=1.5.7->-r requirements.txt (line 3)) (3.3.6)\n",
            "Requirement already satisfied: werkzeug>=0.11.15 in /usr/local/lib/python3.7/dist-packages (from tensorboard>=2.2.0->pytorch-lightning>=1.5.7->-r requirements.txt (line 3)) (1.0.1)\n",
            "Requirement already satisfied: grpcio>=1.24.3 in /usr/local/lib/python3.7/dist-packages (from tensorboard>=2.2.0->pytorch-lightning>=1.5.7->-r requirements.txt (line 3)) (1.43.0)\n",
            "Requirement already satisfied: absl-py>=0.4 in /usr/local/lib/python3.7/dist-packages (from tensorboard>=2.2.0->pytorch-lightning>=1.5.7->-r requirements.txt (line 3)) (1.0.0)\n",
            "Requirement already satisfied: google-auth<3,>=1.6.3 in /usr/local/lib/python3.7/dist-packages (from tensorboard>=2.2.0->pytorch-lightning>=1.5.7->-r requirements.txt (line 3)) (1.35.0)\n",
            "Requirement already satisfied: six in /usr/local/lib/python3.7/dist-packages (from absl-py>=0.4->tensorboard>=2.2.0->pytorch-lightning>=1.5.7->-r requirements.txt (line 3)) (1.15.0)\n",
            "Requirement already satisfied: rsa<5,>=3.1.4 in /usr/local/lib/python3.7/dist-packages (from google-auth<3,>=1.6.3->tensorboard>=2.2.0->pytorch-lightning>=1.5.7->-r requirements.txt (line 3)) (4.8)\n",
            "Requirement already satisfied: cachetools<5.0,>=2.0.0 in /usr/local/lib/python3.7/dist-packages (from google-auth<3,>=1.6.3->tensorboard>=2.2.0->pytorch-lightning>=1.5.7->-r requirements.txt (line 3)) (4.2.4)\n",
            "Requirement already satisfied: pyasn1-modules>=0.2.1 in /usr/local/lib/python3.7/dist-packages (from google-auth<3,>=1.6.3->tensorboard>=2.2.0->pytorch-lightning>=1.5.7->-r requirements.txt (line 3)) (0.2.8)\n",
            "Requirement already satisfied: requests-oauthlib>=0.7.0 in /usr/local/lib/python3.7/dist-packages (from google-auth-oauthlib<0.5,>=0.4.1->tensorboard>=2.2.0->pytorch-lightning>=1.5.7->-r requirements.txt (line 3)) (1.3.1)\n",
            "Requirement already satisfied: zipp>=0.5 in /usr/local/lib/python3.7/dist-packages (from importlib-metadata->datasets>=1.17.0->-r requirements.txt (line 4)) (3.7.0)\n",
            "Requirement already satisfied: pyasn1<0.5.0,>=0.4.6 in /usr/local/lib/python3.7/dist-packages (from pyasn1-modules>=0.2.1->google-auth<3,>=1.6.3->tensorboard>=2.2.0->pytorch-lightning>=1.5.7->-r requirements.txt (line 3)) (0.4.8)\n",
            "Requirement already satisfied: oauthlib>=3.0.0 in /usr/local/lib/python3.7/dist-packages (from requests-oauthlib>=0.7.0->google-auth-oauthlib<0.5,>=0.4.1->tensorboard>=2.2.0->pytorch-lightning>=1.5.7->-r requirements.txt (line 3)) (3.2.0)\n",
            "Requirement already satisfied: aiosignal>=1.1.2 in /usr/local/lib/python3.7/dist-packages (from aiohttp->datasets>=1.17.0->-r requirements.txt (line 4)) (1.2.0)\n",
            "Requirement already satisfied: charset-normalizer<3.0,>=2.0 in /usr/local/lib/python3.7/dist-packages (from aiohttp->datasets>=1.17.0->-r requirements.txt (line 4)) (2.0.11)\n",
            "Requirement already satisfied: multidict<7.0,>=4.5 in /usr/local/lib/python3.7/dist-packages (from aiohttp->datasets>=1.17.0->-r requirements.txt (line 4)) (6.0.2)\n",
            "Requirement already satisfied: frozenlist>=1.1.1 in /usr/local/lib/python3.7/dist-packages (from aiohttp->datasets>=1.17.0->-r requirements.txt (line 4)) (1.3.0)\n",
            "Requirement already satisfied: async-timeout<5.0,>=4.0.0a3 in /usr/local/lib/python3.7/dist-packages (from aiohttp->datasets>=1.17.0->-r requirements.txt (line 4)) (4.0.2)\n",
            "Requirement already satisfied: asynctest==0.13.0 in /usr/local/lib/python3.7/dist-packages (from aiohttp->datasets>=1.17.0->-r requirements.txt (line 4)) (0.13.0)\n",
            "Requirement already satisfied: yarl<2.0,>=1.0 in /usr/local/lib/python3.7/dist-packages (from aiohttp->datasets>=1.17.0->-r requirements.txt (line 4)) (1.7.2)\n",
            "Requirement already satisfied: attrs>=17.3.0 in /usr/local/lib/python3.7/dist-packages (from aiohttp->datasets>=1.17.0->-r requirements.txt (line 4)) (21.4.0)\n",
            "Requirement already satisfied: pytz>=2017.3 in /usr/local/lib/python3.7/dist-packages (from pandas->datasets>=1.17.0->-r requirements.txt (line 4)) (2018.9)\n",
            "Requirement already satisfied: python-dateutil>=2.7.3 in /usr/local/lib/python3.7/dist-packages (from pandas->datasets>=1.17.0->-r requirements.txt (line 4)) (2.8.2)\n",
            "Requirement already satisfied: joblib in /usr/local/lib/python3.7/dist-packages (from sacremoses->transformers>=4.15.0->-r requirements.txt (line 6)) (1.1.0)\n",
            "Requirement already satisfied: click in /usr/local/lib/python3.7/dist-packages (from sacremoses->transformers>=4.15.0->-r requirements.txt (line 6)) (7.1.2)\n"
          ]
        }
      ]
    },
    {
      "cell_type": "markdown",
      "source": [
        "# Train"
      ],
      "metadata": {
        "id": "8SjiN5VofRAu"
      }
    },
    {
      "cell_type": "code",
      "source": [
        "cd /content/drive/MyDrive/Google-MT5-For-Everything/"
      ],
      "metadata": {
        "colab": {
          "base_uri": "https://localhost:8080/"
        },
        "id": "tpbp8EVCgqim",
        "outputId": "b65ffe4a-44e7-4af9-86bb-a9392430784c"
      },
      "execution_count": null,
      "outputs": [
        {
          "output_type": "stream",
          "name": "stdout",
          "text": [
            "/content/drive/MyDrive/Google-MT5-For-Everything\n"
          ]
        }
      ]
    },
    {
      "cell_type": "code",
      "source": [
        "#@title Training Form\n",
        "from source.datamodule import DataModule\n",
        "from pytorch_lightning import seed_everything, Trainer\n",
        "from source.mt5 import MT5\n",
        "import os\n",
        "import torch\n",
        "\n",
        "train_file = 'data/train.tsv' #@param{type:'string'}\n",
        "valid_file = 'data/valid.tsv' #@param{type:\"string\"}\n",
        "inputs_col = 'inputs' #@param{type:\"string\"}\n",
        "outputs_col = 'outputs' #@param{type:\"string\"}\n",
        "tokenizer_name_or_path = \"google/mt5-small\" #@param{type:\"string\"}[\"google/mt5-small\", \"google/mt5-base\", \"google/mt5-large\"]\n",
        "input_max_length = 512 #@param{type:\"slider\", min:10, max:512}\n",
        "output_max_length = 128 #@param{type:\"slider\", min:1, max:512}\n",
        "batch_size = 8 #@param{type:\"slider\", min: 1, max:32}\n",
        "output_dir = 'model' #@param{type:\"string\"}\n",
        "model_name_or_path = 'google/mt5-small' #@param{type:\"string\"}[\"google/mt5-small\", \"google/mt5-base\", \"google/mt5-large\"]\n",
        "epochs = 10 #@param{type:\"slider\", min: 1, max: 32}\n",
        "learning_rate = 5e-4 #@param{type:\"number\"}\n",
        "seed = 42 #@param{type:\"integer\"}\n",
        "\n",
        "seed_everything(seed)\n",
        "\n",
        "data = DataModule(\n",
        "    train_file=train_file ,\n",
        "    valid_file=valid_file,\n",
        "    inputs_col=inputs_col,\n",
        "    outputs_col=outputs_col,\n",
        "    tokenizer_name_or_path = tokenizer_name_or_path,\n",
        "    input_max_length = input_max_length,\n",
        "    output_max_length = output_max_length,\n",
        "    batch_size = batch_size,\n",
        "    num_workers = os.cpu_count(),\n",
        ")\n",
        "\n",
        "model = MT5(model_name_or_path=model_name_or_path, learning_rate=learning_rate)\n",
        "\n",
        "Trainer(max_epochs=epochs, gpus=1, default_root_dir=output_dir).fit(model=model, datamodule=data)"
      ],
      "metadata": {
        "id": "O1aW32L8fpd7"
      },
      "execution_count": null,
      "outputs": []
    },
    {
      "cell_type": "markdown",
      "source": [
        "# Inference"
      ],
      "metadata": {
        "id": "vn8_ItFGgULh"
      }
    },
    {
      "cell_type": "code",
      "source": [
        "from transformers import AutoTokenizer\n",
        "from source.mt5 import MT5\n",
        "\n",
        "# Do not forget to update this arg with your own model\n",
        "path_to_checkpoint = 'path_to_checkpoint.ckpt'\n",
        "\n",
        "# Loading model and tokenizer\n",
        "model = MT5.load_from_checkpoint(path_to_checkpoint).eval().cuda()\n",
        "model.tokenizer = AutoTokenizer.from_pretrained('tokenizer', use_fast=True)\n",
        "\n",
        "input = 'Your input here. '\n",
        "\n",
        "# Prediction\n",
        "prediction = model.predict(inputs=[input])"
      ],
      "metadata": {
        "id": "xVyZQHrEgWCW"
      },
      "execution_count": null,
      "outputs": []
    }
  ]
}